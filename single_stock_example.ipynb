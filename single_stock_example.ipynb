{
 "cells": [
  {
   "cell_type": "code",
   "execution_count": 1,
   "metadata": {
    "collapsed": false
   },
   "outputs": [],
   "source": [
    "%matplotlib inline\n",
    "from quantrisk import tears, utils"
   ]
  },
  {
   "cell_type": "code",
   "execution_count": null,
   "metadata": {
    "collapsed": true
   },
   "outputs": [],
   "source": [
    "stock_rets = utils.get_symbol_rets('AAPL')"
   ]
  },
  {
   "cell_type": "code",
   "execution_count": null,
   "metadata": {
    "collapsed": false,
    "scrolled": false
   },
   "outputs": [
    {
     "name": "stdout",
     "output_type": "stream",
     "text": [
      "Entire data start date: 1993-02-02 00:00:00\n",
      "Entire data end date: 2015-07-08 00:00:00\n",
      "\n",
      "\n",
      "Out-of-Sample Months: 26\n",
      "Backtest Months: 242\n",
      "                   Backtest  Out_of_Sample  All_History\n",
      "sortino_ratio          0.97           2.72         1.02\n",
      "omega_ratio            1.12           1.30         1.12\n",
      "max_drawdown          -0.82          -0.15        -0.82\n",
      "calmar_ratio           0.36           2.42         0.36\n",
      "annual_return          0.29           0.35         0.30\n",
      "stability              0.81           0.96         0.86\n",
      "sharpe_ratio           0.59           1.53         0.63\n",
      "annual_volatility      0.49           0.23         0.47\n",
      "alpha                  0.18           0.24         0.19\n",
      "beta                   1.07           0.83         1.06\n",
      "\n",
      "Worst Drawdown Periods\n",
      "   net drawdown in %  peak date valley date recovery date duration\n",
      "1              60.87 2007-12-28  2009-01-20    2009-10-21      474\n",
      "0              43.80 2012-09-19  2013-04-19    2014-07-14      474\n",
      "2              16.68 2012-04-09  2012-05-17    2012-08-16       94\n",
      "3              10.93 2014-11-26  2015-01-16    2015-02-04       51\n",
      "4               8.09 2015-02-23  2015-03-11    2015-05-22       65\n",
      "\n"
     ]
    }
   ],
   "source": [
    "tears.create_full_tear_sheet(stock_rets, bayesian=True, backtest_days_pct=0.9)"
   ]
  }
 ],
 "metadata": {
  "kernelspec": {
   "display_name": "Python 2",
   "language": "python",
   "name": "python2"
  },
  "language_info": {
   "codemirror_mode": {
    "name": "ipython",
    "version": 2
   },
   "file_extension": ".py",
   "mimetype": "text/x-python",
   "name": "python",
   "nbconvert_exporter": "python",
   "pygments_lexer": "ipython2",
   "version": "2.7.10"
  }
 },
 "nbformat": 4,
 "nbformat_minor": 0
}
