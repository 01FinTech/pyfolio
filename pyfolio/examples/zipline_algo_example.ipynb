{
 "cells": [
  {
   "cell_type": "markdown",
   "metadata": {},
   "source": [
    "# Zipline algorithm analysis example in pyfolio"
   ]
  },
  {
   "cell_type": "markdown",
   "metadata": {
    "collapsed": true
   },
   "source": [
    "Here's an example where we run an algorithm with zipline, then produce tear sheets for that algorithm."
   ]
  },
  {
   "cell_type": "markdown",
   "metadata": {},
   "source": [
    "## Imports\n",
    "Import pyfolio, along with the necessary modules for running our zipline backtest."
   ]
  },
  {
   "cell_type": "code",
   "execution_count": 7,
   "metadata": {
    "collapsed": true
   },
   "outputs": [],
   "source": [
    "%matplotlib inline\n",
    "import pyfolio as pf"
   ]
  },
  {
   "cell_type": "code",
   "execution_count": 8,
   "metadata": {
    "collapsed": true
   },
   "outputs": [],
   "source": [
    "import numpy as np\n",
    "import pandas as pd\n",
    "\n",
    "import sys\n",
    "import logbook\n",
    "import numpy as np\n",
    "from datetime import datetime\n",
    "import pytz\n",
    "\n",
    "# Import Zipline, the open source backtester\n",
    "import zipline\n",
    "from zipline import TradingAlgorithm\n",
    "from zipline.data.loader import load_bars_from_yahoo\n",
    "from zipline.api import order_target, symbol, history, add_history, schedule_function, date_rules, time_rules\n",
    "from zipline.algorithm import TradingAlgorithm\n",
    "from zipline.utils.factory import load_from_yahoo\n",
    "from zipline.finance import commission"
   ]
  },
  {
   "cell_type": "markdown",
   "metadata": {},
   "source": [
    "## Run our zipline algorithm\n",
    "This algorithm can also be adjusted to execute a modified, or completely different, trading strategy."
   ]
  },
  {
   "cell_type": "code",
   "execution_count": 9,
   "metadata": {
    "collapsed": false
   },
   "outputs": [
    {
     "name": "stdout",
     "output_type": "stream",
     "text": [
      "AMD\n",
      "CERN\n",
      "COST\n",
      "DELL\n",
      "GPS\n",
      "INTC\n",
      "MMM\n",
      "[2015-07-14 22:21:41.510181] INFO: Performance: Simulated 1511 trading days out of 1511.\n",
      "[2015-07-14 22:21:41.510846] INFO: Performance: first open: 2004-01-02 14:31:00+00:00\n",
      "[2015-07-14 22:21:41.511334] INFO: Performance: last close: 2009-12-31 21:00:00+00:00\n"
     ]
    }
   ],
   "source": [
    "# Zipline trading algorithm\n",
    "# Taken from zipline.examples.olmar\n",
    "zipline_logging = logbook.NestedSetup([\n",
    "    logbook.NullHandler(level=logbook.DEBUG, bubble=True),\n",
    "    logbook.StreamHandler(sys.stdout, level=logbook.INFO),\n",
    "    logbook.StreamHandler(sys.stderr, level=logbook.ERROR),\n",
    "])\n",
    "zipline_logging.push_application()\n",
    "\n",
    "STOCKS = ['AMD', 'CERN', 'COST', 'DELL', 'GPS', 'INTC', 'MMM']\n",
    "\n",
    "\n",
    "# On-Line Portfolio Moving Average Reversion\n",
    "\n",
    "# More info can be found in the corresponding paper:\n",
    "# http://icml.cc/2012/papers/168.pdf\n",
    "def initialize(algo, eps=1, window_length=5):\n",
    "    algo.stocks = STOCKS\n",
    "    algo.sids = [algo.symbol(symbol) for symbol in algo.stocks]\n",
    "    algo.m = len(algo.stocks)\n",
    "    algo.price = {}\n",
    "    algo.b_t = np.ones(algo.m) / algo.m\n",
    "    algo.last_desired_port = np.ones(algo.m) / algo.m\n",
    "    algo.eps = eps\n",
    "    algo.init = True\n",
    "    algo.days = 0\n",
    "    algo.window_length = window_length\n",
    "    algo.add_transform('mavg', 5)\n",
    "\n",
    "    algo.set_commission(commission.PerShare(cost=0))\n",
    "\n",
    "\n",
    "def handle_data(algo, data):\n",
    "    algo.days += 1\n",
    "    if algo.days < algo.window_length:\n",
    "        return\n",
    "\n",
    "    if algo.init:\n",
    "        rebalance_portfolio(algo, data, algo.b_t)\n",
    "        algo.init = False\n",
    "        return\n",
    "\n",
    "    m = algo.m\n",
    "\n",
    "    x_tilde = np.zeros(m)\n",
    "    b = np.zeros(m)\n",
    "\n",
    "    # find relative moving average price for each asset\n",
    "    for i, sid in enumerate(algo.sids):\n",
    "        price = data[sid].price\n",
    "        # Relative mean deviation\n",
    "        x_tilde[i] = data[sid].mavg(algo.window_length) / price\n",
    "\n",
    "    ###########################\n",
    "    # Inside of OLMAR (algo 2)\n",
    "    x_bar = x_tilde.mean()\n",
    "\n",
    "    # market relative deviation\n",
    "    mark_rel_dev = x_tilde - x_bar\n",
    "\n",
    "    # Expected return with current portfolio\n",
    "    exp_return = np.dot(algo.b_t, x_tilde)\n",
    "    weight = algo.eps - exp_return\n",
    "    variability = (np.linalg.norm(mark_rel_dev)) ** 2\n",
    "\n",
    "    # test for divide-by-zero case\n",
    "    if variability == 0.0:\n",
    "        step_size = 0\n",
    "    else:\n",
    "        step_size = max(0, weight / variability)\n",
    "\n",
    "    b = algo.b_t + step_size * mark_rel_dev\n",
    "    b_norm = simplex_projection(b)\n",
    "    np.testing.assert_almost_equal(b_norm.sum(), 1)\n",
    "\n",
    "    rebalance_portfolio(algo, data, b_norm)\n",
    "\n",
    "    # update portfolio\n",
    "    algo.b_t = b_norm\n",
    "\n",
    "\n",
    "def rebalance_portfolio(algo, data, desired_port):\n",
    "    # rebalance portfolio\n",
    "    desired_amount = np.zeros_like(desired_port)\n",
    "    current_amount = np.zeros_like(desired_port)\n",
    "    prices = np.zeros_like(desired_port)\n",
    "\n",
    "    if algo.init:\n",
    "        positions_value = algo.portfolio.starting_cash\n",
    "    else:\n",
    "        positions_value = algo.portfolio.positions_value + \\\n",
    "            algo.portfolio.cash\n",
    "\n",
    "    for i, sid in enumerate(algo.sids):\n",
    "        current_amount[i] = algo.portfolio.positions[sid].amount\n",
    "        prices[i] = data[sid].price\n",
    "\n",
    "    desired_amount = np.round(desired_port * positions_value / prices)\n",
    "\n",
    "    algo.last_desired_port = desired_port\n",
    "    diff_amount = desired_amount - current_amount\n",
    "\n",
    "    for i, sid in enumerate(algo.sids):\n",
    "        algo.order(sid, diff_amount[i])\n",
    "\n",
    "\n",
    "def simplex_projection(v, b=1):\n",
    "    \"\"\"Projection vectors to the simplex domain\n",
    "\n",
    "    Implemented according to the paper: Efficient projections onto the\n",
    "    l1-ball for learning in high dimensions, John Duchi, et al. ICML 2008.\n",
    "    Implementation Time: 2011 June 17 by Bin@libin AT pmail.ntu.edu.sg\n",
    "    Optimization Problem: min_{w}\\| w - v \\|_{2}^{2}\n",
    "    s.t. sum_{i=1}^{m}=z, w_{i}\\geq 0\n",
    "\n",
    "    Input: A vector v \\in R^{m}, and a scalar z > 0 (default=1)\n",
    "    Output: Projection vector w\n",
    "\n",
    "    :Example:\n",
    "    >>> proj = simplex_projection([.4 ,.3, -.4, .5])\n",
    "    >>> print(proj)\n",
    "    array([ 0.33333333, 0.23333333, 0. , 0.43333333])\n",
    "    >>> print(proj.sum())\n",
    "    1.0\n",
    "\n",
    "    Original matlab implementation: John Duchi (jduchi@cs.berkeley.edu)\n",
    "    Python-port: Copyright 2013 by Thomas Wiecki (thomas.wiecki@gmail.com).\n",
    "    \"\"\"\n",
    "\n",
    "    v = np.asarray(v)\n",
    "    p = len(v)\n",
    "\n",
    "    # Sort v into u in descending order\n",
    "    v = (v > 0) * v\n",
    "    u = np.sort(v)[::-1]\n",
    "    sv = np.cumsum(u)\n",
    "\n",
    "    rho = np.where(u > (sv - b) / np.arange(1, p + 1))[0][-1]\n",
    "    theta = np.max([0, (sv[rho] - b) / (rho + 1)])\n",
    "    w = (v - theta)\n",
    "    w[w < 0] = 0\n",
    "    return w\n",
    "\n",
    "start = datetime(2004, 1, 1, 0, 0, 0, 0, pytz.utc)\n",
    "end = datetime(2010, 1, 1, 0, 0, 0, 0, pytz.utc)\n",
    "data = load_from_yahoo(stocks=STOCKS, indexes={}, start=start, end=end)\n",
    "data = data.dropna()\n",
    "olmar = TradingAlgorithm(handle_data=handle_data,\n",
    "                         initialize=initialize,\n",
    "                         identifiers=STOCKS)\n",
    "backtest = olmar.run(data)"
   ]
  },
  {
   "cell_type": "markdown",
   "metadata": {},
   "source": [
    "## Extract metrics\n",
    "Get the returns, positions, and transactions from the zipline backtest object."
   ]
  },
  {
   "cell_type": "code",
   "execution_count": 10,
   "metadata": {
    "collapsed": false
   },
   "outputs": [],
   "source": [
    "returns, positions, transactions, gross_lev = pf.utils.extract_rets_pos_txn_from_zipline(backtest)"
   ]
  },
  {
   "cell_type": "markdown",
   "metadata": {},
   "source": [
    "## Single plot example\n",
    "Make one plot of the top 5 drawdown periods."
   ]
  },
  {
   "cell_type": "code",
   "execution_count": null,
   "metadata": {
    "collapsed": false
   },
   "outputs": [
    {
     "data": {
      "text/plain": [
       "<matplotlib.text.Text at 0x7fa6ffdf97d0>"
      ]
     },
     "execution_count": 11,
     "metadata": {},
     "output_type": "execute_result"
    },
    {
     "data": {
      "image/png": "[encoded data removed]",
      "text/plain": [
       "<matplotlib.figure.Figure at 0x7fa6f8b160d0>"
      ]
     },
     "metadata": {},
     "output_type": "display_data"
    }
   ],
   "source": [
    "pf.plot_drawdown_periods(returns, top=5).set_xlabel('Date')"
   ]
  },
  {
   "cell_type": "markdown",
   "metadata": {},
   "source": [
    "## Full tear sheet example\n",
    "Create a full tear sheet for our algorithm. As an example, pretend the first 80% was a backtest and the last 20% was live trading."
   ]
  },
  {
   "cell_type": "code",
   "execution_count": null,
   "metadata": {
    "collapsed": false,
    "scrolled": false
   },
   "outputs": [
    {
     "name": "stdout",
     "output_type": "stream",
     "text": [
      "Entire data start date: 2004-01-02 00:00:00\n",
      "Entire data end date: 2009-12-31 00:00:00\n",
      "\n",
      "\n",
      "Out-of-Sample Months: 14\n",
      "Backtest Months: 57\n",
      "                   Backtest  Out_of_Sample  All_History\n",
      "sortino_ratio          0.01           3.68         0.76\n",
      "omega_ratio            1.00           1.33         1.09\n",
      "max_drawdown          -0.53          -0.22        -0.60\n",
      "calmar_ratio           0.00           2.64         0.21\n",
      "annual_return          0.00           0.59         0.12\n",
      "stability              0.19           0.91         0.01\n",
      "sharpe_ratio           0.00           1.70         0.48\n",
      "annual_volatility      0.23           0.35         0.25\n",
      "alpha                  0.00           0.44         0.09\n",
      "beta                   0.84           0.80         0.81\n",
      "\n",
      "Worst Drawdown Periods\n",
      "   net drawdown in %  peak date valley date recovery date duration\n",
      "0              59.50 2007-11-06  2008-11-20           NaT      NaN\n",
      "1              22.33 2006-02-16  2006-08-31    2007-05-21      328\n",
      "2              12.52 2005-07-28  2005-10-12    2006-01-11      120\n",
      "3              11.28 2004-11-15  2005-04-28    2005-07-22      180\n",
      "4               9.44 2007-07-16  2007-08-06    2007-09-04       37\n",
      "\n",
      "\n",
      "2-sigma returns daily    -0.032\n",
      "2-sigma returns weekly   -0.065\n",
      "dtype: float64\n",
      "\n",
      "Stress Events\n",
      "          mean    min    max\n",
      "Lehmann -0.003 -0.044  0.044\n",
      "Aug07    0.003 -0.030  0.030\n",
      "Sept08  -0.006 -0.043  0.040\n",
      "2009Q1  -0.004 -0.050  0.034\n",
      "2009Q2   0.007 -0.038  0.062\n",
      "\n",
      "\n",
      "Top 10 long positions of all time (and max%)\n",
      "[2 6 1 3 0 5 4]\n",
      "[ 0.993  0.911  0.845  0.717  0.709  0.666  0.62 ]\n",
      "\n",
      "\n",
      "Top 10 short positions of all time (and max%)\n",
      "[]\n",
      "[]\n",
      "\n",
      "\n",
      "Top 10 positions of all time (and max%)\n",
      "[2 6 1 3 0 5 4]\n",
      "[ 0.993  0.911  0.845  0.717  0.709  0.666  0.62 ]\n",
      "\n",
      "\n",
      "All positions ever held\n",
      "[2 6 1 3 0 5 4]\n",
      "[ 0.993  0.911  0.845  0.717  0.709  0.666  0.62 ]\n",
      "\n",
      "\n",
      " [-----------------100%-----------------] 2000 of 2000 complete in 21.7 sec"
     ]
    }
   ],
   "source": [
    "pf.create_full_tear_sheet(returns, \n",
    "                          positions=positions, \n",
    "                          transactions=transactions,\n",
    "                          gross_lev=gross_lev, bayesian=True, backtest_days_pct=0.8)"
   ]
  }
 ],
 "metadata": {
  "kernelspec": {
   "display_name": "Python 2",
   "language": "python",
   "name": "python2"
  },
  "language_info": {
   "codemirror_mode": {
    "name": "ipython",
    "version": 2
   },
   "file_extension": ".py",
   "mimetype": "text/x-python",
   "name": "python",
   "nbconvert_exporter": "python",
   "pygments_lexer": "ipython2",
   "version": "2.7.10"
  }
 },
 "nbformat": 4,
 "nbformat_minor": 0
}
