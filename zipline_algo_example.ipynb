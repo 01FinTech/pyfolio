{
 "cells": [
  {
   "cell_type": "code",
   "execution_count": 1,
   "metadata": {
    "collapsed": true
   },
   "outputs": [],
   "source": [
    "# Import Zipline, the open source backester, and a few other libraries that we will use\n",
    "import zipline\n",
    "from zipline import TradingAlgorithm\n",
    "from zipline.data.loader import load_bars_from_yahoo\n",
    "from zipline.api import order_target, symbol, history, add_history, schedule_function, date_rules, time_rules\n",
    "\n",
    "from datetime import datetime\n",
    "import pytz\n",
    "\n",
    "import numpy as np\n",
    "\n",
    "import pyfolio as pf"
   ]
  },
  {
   "cell_type": "code",
   "execution_count": 2,
   "metadata": {
    "collapsed": true
   },
   "outputs": [],
   "source": [
    "def initialize(context):\n",
    "    # Register 2 histories that track daily prices,\n",
    "    # one with a 100 window and one with a 300 day window\n",
    "    add_history(100, '1d', 'price')\n",
    "    add_history(300, '1d', 'price')\n",
    "\n",
    "    context.i = 0\n",
    "\n",
    "\n",
    "def handle_data(context, data):\n",
    "    # Skip first 300 days to get full windows\n",
    "    context.i += 1\n",
    "    if context.i < 300:\n",
    "        return\n",
    "\n",
    "    # Compute averages\n",
    "    # history() has to be called with the same params\n",
    "    # from above and returns a pandas dataframe.\n",
    "    short_mavg = history(100, '1d', 'price').mean()\n",
    "    long_mavg = history(300, '1d', 'price').mean()\n",
    "\n",
    "    sym = symbol('AAPL')\n",
    "\n",
    "    # Trading logic\n",
    "    if short_mavg[sym] > long_mavg[sym]:\n",
    "        # order_target orders as many shares as needed to\n",
    "        # achieve the desired number of shares.\n",
    "        order_target(sym, 100)\n",
    "    elif short_mavg[sym] < long_mavg[sym]:\n",
    "        order_target(sym, 0)"
   ]
  },
  {
   "cell_type": "code",
   "execution_count": 3,
   "metadata": {
    "collapsed": false,
    "scrolled": true
   },
   "outputs": [
    {
     "name": "stderr",
     "output_type": "stream",
     "text": [
      "[2015-07-10 18:30:21.077684] WARNING: Loader: No benchmark data found for date range.\n",
      "start_date=2015-07-10 00:00:00+00:00, end_date=2015-07-10 18:30:21.011172, url=http://ichart.finance.yahoo.com/table.csv?a=6&c=2015&b=10&e=10&d=6&g=d&f=2015&s=%5EGSPC\n"
     ]
    }
   ],
   "source": [
    "algo_obj = TradingAlgorithm(initialize=initialize, handle_data=handle_data)"
   ]
  },
  {
   "cell_type": "code",
   "execution_count": 4,
   "metadata": {
    "collapsed": false
   },
   "outputs": [
    {
     "name": "stdout",
     "output_type": "stream",
     "text": [
      "AAPL\n"
     ]
    }
   ],
   "source": [
    "start = datetime(2015, 5, 1, 0, 0, 0, 0, pytz.utc)\n",
    "end = datetime(2015, 7, 1, 0, 0, 0, 0, pytz.utc)\n",
    "data = load_bars_from_yahoo(stocks=['AAPL'], start=start, end=end)"
   ]
  },
  {
   "cell_type": "code",
   "execution_count": 5,
   "metadata": {
    "collapsed": false
   },
   "outputs": [
    {
     "name": "stderr",
     "output_type": "stream",
     "text": [
      "[2015-07-10 18:30:30.698501] INFO: Performance: Simulated 43 trading days out of 43.\n",
      "[2015-07-10 18:30:30.699157] INFO: Performance: first open: 2015-05-01 13:31:00+00:00\n",
      "[2015-07-10 18:30:30.699624] INFO: Performance: last close: 2015-07-01 20:00:00+00:00\n"
     ]
    }
   ],
   "source": [
    "backtest = algo_obj.run(data)"
   ]
  },
  {
   "cell_type": "code",
   "execution_count": 27,
   "metadata": {
    "collapsed": false
   },
   "outputs": [
    {
     "data": {
      "text/plain": [
       "2015-05-01    0\n",
       "2015-05-04    0\n",
       "2015-05-05    0\n",
       "2015-05-06    0\n",
       "2015-05-07    0\n",
       "2015-05-08    0\n",
       "2015-05-11    0\n",
       "2015-05-12    0\n",
       "2015-05-13    0\n",
       "2015-05-14    0\n",
       "2015-05-15    0\n",
       "2015-05-18    0\n",
       "2015-05-19    0\n",
       "2015-05-20    0\n",
       "2015-05-21    0\n",
       "2015-05-22    0\n",
       "2015-05-26    0\n",
       "2015-05-27    0\n",
       "2015-05-28    0\n",
       "2015-05-29    0\n",
       "2015-06-01    0\n",
       "2015-06-02    0\n",
       "2015-06-03    0\n",
       "2015-06-04    0\n",
       "2015-06-05    0\n",
       "2015-06-08    0\n",
       "2015-06-09    0\n",
       "2015-06-10    0\n",
       "2015-06-11    0\n",
       "2015-06-12    0\n",
       "2015-06-15    0\n",
       "2015-06-16    0\n",
       "2015-06-17    0\n",
       "2015-06-18    0\n",
       "2015-06-19    0\n",
       "2015-06-22    0\n",
       "2015-06-23    0\n",
       "2015-06-24    0\n",
       "2015-06-25    0\n",
       "2015-06-26    0\n",
       "2015-06-29    0\n",
       "2015-06-30    0\n",
       "2015-07-01    0\n",
       "Name: returns, dtype: float64"
      ]
     },
     "execution_count": 27,
     "metadata": {},
     "output_type": "execute_result"
    }
   ],
   "source": [
    "df_rets = backtest[0].returns\n",
    "df_rets.groupby(df_rets.index.date).last()"
   ]
  },
  {
   "cell_type": "code",
   "execution_count": 14,
   "metadata": {
    "collapsed": false
   },
   "outputs": [
    {
     "data": {
      "text/plain": [
       "pandas.tslib.Timestamp"
      ]
     },
     "execution_count": 14,
     "metadata": {},
     "output_type": "execute_result"
    }
   ],
   "source": [
    "type(backtest[0].returns.index[0])"
   ]
  },
  {
   "cell_type": "code",
   "execution_count": 26,
   "metadata": {
    "collapsed": false
   },
   "outputs": [
    {
     "name": "stdout",
     "output_type": "stream",
     "text": [
      "Entire data start date: 2015-05-01 20:00:00\n",
      "Entire data end date: 2015-07-01 20:00:00\n",
      "\n",
      "\n",
      "Out-of-Sample Months: 1\n",
      "Backtest Months: 1\n"
     ]
    },
    {
     "ename": "KeyError",
     "evalue": "\"None of [DatetimeIndex(['2015-05-01 20:00:00', '2015-05-04 20:00:00',\\n               '2015-05-05 20:00:00', '2015-05-06 20:00:00',\\n               '2015-05-07 20:00:00', '2015-05-08 20:00:00',\\n               '2015-05-11 20:00:00', '2015-05-12 20:00:00',\\n               '2015-05-13 20:00:00', '2015-05-14 20:00:00',\\n               '2015-05-15 20:00:00', '2015-05-18 20:00:00',\\n               '2015-05-19 20:00:00', '2015-05-20 20:00:00',\\n               '2015-05-21 20:00:00', '2015-05-22 20:00:00',\\n               '2015-05-26 20:00:00', '2015-05-27 20:00:00',\\n               '2015-05-28 20:00:00', '2015-05-29 20:00:00',\\n               '2015-06-01 20:00:00'],\\n              dtype='datetime64[ns]', freq=None, tz=None)] are in the [index]\"",
     "output_type": "error",
     "traceback": [
      "\u001b[1;31m---------------------------------------------------------------------------\u001b[0m",
      "\u001b[1;31mKeyError\u001b[0m                                  Traceback (most recent call last)",
      "\u001b[1;32m<ipython-input-26-fb9603c3a367>\u001b[0m in \u001b[0;36m<module>\u001b[1;34m()\u001b[0m\n\u001b[1;32m----> 1\u001b[1;33m \u001b[0mpf\u001b[0m\u001b[1;33m.\u001b[0m\u001b[0mcreate_full_tear_sheet\u001b[0m\u001b[1;33m(\u001b[0m\u001b[0mdf_rets\u001b[0m\u001b[1;33m)\u001b[0m\u001b[1;33m\u001b[0m\u001b[0m\n\u001b[0m",
      "\u001b[1;32m/home/ggordon/pyfolio/pyfolio/tears.pyc\u001b[0m in \u001b[0;36mcreate_full_tear_sheet\u001b[1;34m(df_rets, df_pos, df_txn, gross_lev, live_start_date, bayesian, backtest_days_pct, cone_std)\u001b[0m\n\u001b[0;32m    434\u001b[0m         \u001b[0mdf_rets\u001b[0m \u001b[1;33m=\u001b[0m \u001b[0mdf_rets\u001b[0m\u001b[1;33m[\u001b[0m\u001b[0mdf_rets\u001b[0m\u001b[1;33m.\u001b[0m\u001b[0mindex\u001b[0m \u001b[1;33m>\u001b[0m \u001b[0mbenchmark_rets\u001b[0m\u001b[1;33m.\u001b[0m\u001b[0mindex\u001b[0m\u001b[1;33m[\u001b[0m\u001b[1;36m0\u001b[0m\u001b[1;33m]\u001b[0m\u001b[1;33m]\u001b[0m\u001b[1;33m\u001b[0m\u001b[0m\n\u001b[0;32m    435\u001b[0m \u001b[1;33m\u001b[0m\u001b[0m\n\u001b[1;32m--> 436\u001b[1;33m     \u001b[0mcreate_returns_tear_sheet\u001b[0m\u001b[1;33m(\u001b[0m\u001b[0mdf_rets\u001b[0m\u001b[1;33m,\u001b[0m \u001b[0mlive_start_date\u001b[0m\u001b[1;33m=\u001b[0m\u001b[0mlive_start_date\u001b[0m\u001b[1;33m,\u001b[0m \u001b[0mbacktest_days_pct\u001b[0m\u001b[1;33m=\u001b[0m\u001b[0mbacktest_days_pct\u001b[0m\u001b[1;33m,\u001b[0m \u001b[0mcone_std\u001b[0m\u001b[1;33m=\u001b[0m\u001b[0mcone_std\u001b[0m\u001b[1;33m,\u001b[0m \u001b[0mbenchmark_rets\u001b[0m\u001b[1;33m=\u001b[0m\u001b[0mbenchmark_rets\u001b[0m\u001b[1;33m,\u001b[0m \u001b[0mbenchmark2_rets\u001b[0m\u001b[1;33m=\u001b[0m\u001b[0mbenchmark2_rets\u001b[0m\u001b[1;33m)\u001b[0m\u001b[1;33m\u001b[0m\u001b[0m\n\u001b[0m\u001b[0;32m    437\u001b[0m \u001b[1;33m\u001b[0m\u001b[0m\n\u001b[0;32m    438\u001b[0m     \u001b[0mcreate_interesting_times_tear_sheet\u001b[0m\u001b[1;33m(\u001b[0m\u001b[0mdf_rets\u001b[0m\u001b[1;33m,\u001b[0m \u001b[0mbenchmark_rets\u001b[0m\u001b[1;33m=\u001b[0m\u001b[0mbenchmark_rets\u001b[0m\u001b[1;33m)\u001b[0m\u001b[1;33m\u001b[0m\u001b[0m\n",
      "\u001b[1;32m/home/ggordon/pyfolio/pyfolio/tears.pyc\u001b[0m in \u001b[0;36mcreate_returns_tear_sheet\u001b[1;34m(df_rets, live_start_date, backtest_days_pct, cone_std, benchmark_rets, benchmark2_rets, return_fig)\u001b[0m\n\u001b[0;32m     85\u001b[0m     \u001b[1;32mprint\u001b[0m \u001b[1;34m'\\n'\u001b[0m\u001b[1;33m\u001b[0m\u001b[0m\n\u001b[0;32m     86\u001b[0m \u001b[1;33m\u001b[0m\u001b[0m\n\u001b[1;32m---> 87\u001b[1;33m     \u001b[0mplotting\u001b[0m\u001b[1;33m.\u001b[0m\u001b[0mshow_perf_stats\u001b[0m\u001b[1;33m(\u001b[0m\u001b[0mdf_rets\u001b[0m\u001b[1;33m,\u001b[0m \u001b[0mlive_start_date\u001b[0m\u001b[1;33m,\u001b[0m \u001b[0mbenchmark_rets\u001b[0m\u001b[1;33m)\u001b[0m\u001b[1;33m\u001b[0m\u001b[0m\n\u001b[0m\u001b[0;32m     88\u001b[0m \u001b[1;33m\u001b[0m\u001b[0m\n\u001b[0;32m     89\u001b[0m     \u001b[0mfig\u001b[0m \u001b[1;33m=\u001b[0m \u001b[0mplt\u001b[0m\u001b[1;33m.\u001b[0m\u001b[0mfigure\u001b[0m\u001b[1;33m(\u001b[0m\u001b[0mfigsize\u001b[0m\u001b[1;33m=\u001b[0m\u001b[1;33m(\u001b[0m\u001b[1;36m14\u001b[0m\u001b[1;33m,\u001b[0m \u001b[1;36m10\u001b[0m\u001b[1;33m*\u001b[0m\u001b[1;36m6\u001b[0m\u001b[1;33m)\u001b[0m\u001b[1;33m)\u001b[0m\u001b[1;33m\u001b[0m\u001b[0m\n",
      "\u001b[1;32m/home/ggordon/pyfolio/pyfolio/plotting.pyc\u001b[0m in \u001b[0;36mshow_perf_stats\u001b[1;34m(df_rets, live_start_date, benchmark_rets)\u001b[0m\n\u001b[0;32m    434\u001b[0m         df_rets_backtest, returns_style='arithmetic'), 2)\n\u001b[0;32m    435\u001b[0m     perf_stats_backtest_ab = np.round(\n\u001b[1;32m--> 436\u001b[1;33m         timeseries.calc_alpha_beta(df_rets_backtest, benchmark_rets), 2)\n\u001b[0m\u001b[0;32m    437\u001b[0m     \u001b[0mperf_stats_backtest\u001b[0m\u001b[1;33m.\u001b[0m\u001b[0mloc\u001b[0m\u001b[1;33m[\u001b[0m\u001b[1;34m'alpha'\u001b[0m\u001b[1;33m]\u001b[0m \u001b[1;33m=\u001b[0m \u001b[0mperf_stats_backtest_ab\u001b[0m\u001b[1;33m[\u001b[0m\u001b[1;36m0\u001b[0m\u001b[1;33m]\u001b[0m\u001b[1;33m\u001b[0m\u001b[0m\n\u001b[0;32m    438\u001b[0m     \u001b[0mperf_stats_backtest\u001b[0m\u001b[1;33m.\u001b[0m\u001b[0mloc\u001b[0m\u001b[1;33m[\u001b[0m\u001b[1;34m'beta'\u001b[0m\u001b[1;33m]\u001b[0m \u001b[1;33m=\u001b[0m \u001b[0mperf_stats_backtest_ab\u001b[0m\u001b[1;33m[\u001b[0m\u001b[1;36m1\u001b[0m\u001b[1;33m]\u001b[0m\u001b[1;33m\u001b[0m\u001b[0m\n",
      "\u001b[1;32m/home/ggordon/pyfolio/pyfolio/timeseries.pyc\u001b[0m in \u001b[0;36mcalc_alpha_beta\u001b[1;34m(df_rets, benchmark_rets)\u001b[0m\n\u001b[0;32m    562\u001b[0m \u001b[1;33m\u001b[0m\u001b[0m\n\u001b[0;32m    563\u001b[0m     \u001b[0mret_index\u001b[0m \u001b[1;33m=\u001b[0m \u001b[0mdf_rets\u001b[0m\u001b[1;33m.\u001b[0m\u001b[0mindex\u001b[0m\u001b[1;33m\u001b[0m\u001b[0m\n\u001b[1;32m--> 564\u001b[1;33m     beta, alpha = sp.stats.linregress(benchmark_rets.loc[ret_index].values,\n\u001b[0m\u001b[0;32m    565\u001b[0m                                       df_rets.values)[:2]\n\u001b[0;32m    566\u001b[0m \u001b[1;33m\u001b[0m\u001b[0m\n",
      "\u001b[1;32m/opt/miniconda/lib/python2.7/site-packages/pandas/core/indexing.pyc\u001b[0m in \u001b[0;36m__getitem__\u001b[1;34m(self, key)\u001b[0m\n\u001b[0;32m   1187\u001b[0m             \u001b[1;32mreturn\u001b[0m \u001b[0mself\u001b[0m\u001b[1;33m.\u001b[0m\u001b[0m_getitem_tuple\u001b[0m\u001b[1;33m(\u001b[0m\u001b[0mkey\u001b[0m\u001b[1;33m)\u001b[0m\u001b[1;33m\u001b[0m\u001b[0m\n\u001b[0;32m   1188\u001b[0m         \u001b[1;32melse\u001b[0m\u001b[1;33m:\u001b[0m\u001b[1;33m\u001b[0m\u001b[0m\n\u001b[1;32m-> 1189\u001b[1;33m             \u001b[1;32mreturn\u001b[0m \u001b[0mself\u001b[0m\u001b[1;33m.\u001b[0m\u001b[0m_getitem_axis\u001b[0m\u001b[1;33m(\u001b[0m\u001b[0mkey\u001b[0m\u001b[1;33m,\u001b[0m \u001b[0maxis\u001b[0m\u001b[1;33m=\u001b[0m\u001b[1;36m0\u001b[0m\u001b[1;33m)\u001b[0m\u001b[1;33m\u001b[0m\u001b[0m\n\u001b[0m\u001b[0;32m   1190\u001b[0m \u001b[1;33m\u001b[0m\u001b[0m\n\u001b[0;32m   1191\u001b[0m     \u001b[1;32mdef\u001b[0m \u001b[0m_getitem_axis\u001b[0m\u001b[1;33m(\u001b[0m\u001b[0mself\u001b[0m\u001b[1;33m,\u001b[0m \u001b[0mkey\u001b[0m\u001b[1;33m,\u001b[0m \u001b[0maxis\u001b[0m\u001b[1;33m=\u001b[0m\u001b[1;36m0\u001b[0m\u001b[1;33m)\u001b[0m\u001b[1;33m:\u001b[0m\u001b[1;33m\u001b[0m\u001b[0m\n",
      "\u001b[1;32m/opt/miniconda/lib/python2.7/site-packages/pandas/core/indexing.pyc\u001b[0m in \u001b[0;36m_getitem_axis\u001b[1;34m(self, key, axis)\u001b[0m\n\u001b[0;32m   1321\u001b[0m                     \u001b[1;32mraise\u001b[0m \u001b[0mValueError\u001b[0m\u001b[1;33m(\u001b[0m\u001b[1;34m'Cannot index with multidimensional key'\u001b[0m\u001b[1;33m)\u001b[0m\u001b[1;33m\u001b[0m\u001b[0m\n\u001b[0;32m   1322\u001b[0m \u001b[1;33m\u001b[0m\u001b[0m\n\u001b[1;32m-> 1323\u001b[1;33m                 \u001b[1;32mreturn\u001b[0m \u001b[0mself\u001b[0m\u001b[1;33m.\u001b[0m\u001b[0m_getitem_iterable\u001b[0m\u001b[1;33m(\u001b[0m\u001b[0mkey\u001b[0m\u001b[1;33m,\u001b[0m \u001b[0maxis\u001b[0m\u001b[1;33m=\u001b[0m\u001b[0maxis\u001b[0m\u001b[1;33m)\u001b[0m\u001b[1;33m\u001b[0m\u001b[0m\n\u001b[0m\u001b[0;32m   1324\u001b[0m \u001b[1;33m\u001b[0m\u001b[0m\n\u001b[0;32m   1325\u001b[0m             \u001b[1;31m# nested tuple slicing\u001b[0m\u001b[1;33m\u001b[0m\u001b[1;33m\u001b[0m\u001b[0m\n",
      "\u001b[1;32m/opt/miniconda/lib/python2.7/site-packages/pandas/core/indexing.pyc\u001b[0m in \u001b[0;36m_getitem_iterable\u001b[1;34m(self, key, axis)\u001b[0m\n\u001b[0;32m    931\u001b[0m     \u001b[1;32mdef\u001b[0m \u001b[0m_getitem_iterable\u001b[0m\u001b[1;33m(\u001b[0m\u001b[0mself\u001b[0m\u001b[1;33m,\u001b[0m \u001b[0mkey\u001b[0m\u001b[1;33m,\u001b[0m \u001b[0maxis\u001b[0m\u001b[1;33m=\u001b[0m\u001b[1;36m0\u001b[0m\u001b[1;33m)\u001b[0m\u001b[1;33m:\u001b[0m\u001b[1;33m\u001b[0m\u001b[0m\n\u001b[0;32m    932\u001b[0m         \u001b[1;32mif\u001b[0m \u001b[0mself\u001b[0m\u001b[1;33m.\u001b[0m\u001b[0m_should_validate_iterable\u001b[0m\u001b[1;33m(\u001b[0m\u001b[0maxis\u001b[0m\u001b[1;33m)\u001b[0m\u001b[1;33m:\u001b[0m\u001b[1;33m\u001b[0m\u001b[0m\n\u001b[1;32m--> 933\u001b[1;33m             \u001b[0mself\u001b[0m\u001b[1;33m.\u001b[0m\u001b[0m_has_valid_type\u001b[0m\u001b[1;33m(\u001b[0m\u001b[0mkey\u001b[0m\u001b[1;33m,\u001b[0m \u001b[0maxis\u001b[0m\u001b[1;33m)\u001b[0m\u001b[1;33m\u001b[0m\u001b[0m\n\u001b[0m\u001b[0;32m    934\u001b[0m \u001b[1;33m\u001b[0m\u001b[0m\n\u001b[0;32m    935\u001b[0m         \u001b[0mlabels\u001b[0m \u001b[1;33m=\u001b[0m \u001b[0mself\u001b[0m\u001b[1;33m.\u001b[0m\u001b[0mobj\u001b[0m\u001b[1;33m.\u001b[0m\u001b[0m_get_axis\u001b[0m\u001b[1;33m(\u001b[0m\u001b[0maxis\u001b[0m\u001b[1;33m)\u001b[0m\u001b[1;33m\u001b[0m\u001b[0m\n",
      "\u001b[1;32m/opt/miniconda/lib/python2.7/site-packages/pandas/core/indexing.pyc\u001b[0m in \u001b[0;36m_has_valid_type\u001b[1;34m(self, key, axis)\u001b[0m\n\u001b[0;32m   1269\u001b[0m \u001b[1;33m\u001b[0m\u001b[0m\n\u001b[0;32m   1270\u001b[0m                 raise KeyError(\"None of [%s] are in the [%s]\" %\n\u001b[1;32m-> 1271\u001b[1;33m                                (key, self.obj._get_axis_name(axis)))\n\u001b[0m\u001b[0;32m   1272\u001b[0m \u001b[1;33m\u001b[0m\u001b[0m\n\u001b[0;32m   1273\u001b[0m             \u001b[1;32mreturn\u001b[0m \u001b[0mTrue\u001b[0m\u001b[1;33m\u001b[0m\u001b[0m\n",
      "\u001b[1;31mKeyError\u001b[0m: \"None of [DatetimeIndex(['2015-05-01 20:00:00', '2015-05-04 20:00:00',\\n               '2015-05-05 20:00:00', '2015-05-06 20:00:00',\\n               '2015-05-07 20:00:00', '2015-05-08 20:00:00',\\n               '2015-05-11 20:00:00', '2015-05-12 20:00:00',\\n               '2015-05-13 20:00:00', '2015-05-14 20:00:00',\\n               '2015-05-15 20:00:00', '2015-05-18 20:00:00',\\n               '2015-05-19 20:00:00', '2015-05-20 20:00:00',\\n               '2015-05-21 20:00:00', '2015-05-22 20:00:00',\\n               '2015-05-26 20:00:00', '2015-05-27 20:00:00',\\n               '2015-05-28 20:00:00', '2015-05-29 20:00:00',\\n               '2015-06-01 20:00:00'],\\n              dtype='datetime64[ns]', freq=None, tz=None)] are in the [index]\""
     ]
    }
   ],
   "source": [
    "pf.create_full_tear_sheet(df_rets)"
   ]
  },
  {
   "cell_type": "code",
   "execution_count": null,
   "metadata": {
    "collapsed": true
   },
   "outputs": [],
   "source": [
    "\"\"\"\n",
    "# Mean reverting algo. \n",
    "\n",
    "# Put any initialization logic here.  The context object will be passed to\n",
    "# the other methods in your algorithm.\n",
    "def initialize(context):\n",
    "    context.stocks = symbols('COKE', 'PEP')\n",
    "    schedule_function(weekly_rebalance, date_rules.week_start(), time_rules.market_open(hours = 1))\n",
    "    add_history(60, '1d', 'price')\n",
    "    \n",
    "def weekly_rebalance(context,data):        \n",
    "    # calculate the price ratio\n",
    "    context.price_ratio = context.coke_price/context.pepsi_price\n",
    "    \n",
    "    # calculate the standard deviation for the stock's prices\n",
    "    history_frame = history(60, '1d', 'price')\n",
    "    trailing_price_ratio = history_frame[symbol('COKE')]/history_frame[symbol('PEP')]\n",
    "    \n",
    "    std_ratio = trailing_price_ratio.std()\n",
    "    \n",
    "    # order_target's only consider the status of filled orders\n",
    "    if get_open_orders():\n",
    "        return\n",
    "    \n",
    "    #enter a trade if the price ratio is more/less than 2 stdev of expected ratio\n",
    "    if context.price_ratio > 2*std_ratio:\n",
    "        #go long on the under-valued stock\n",
    "        order_target_percent(symbol('COKE'), 0.5)     \n",
    "        # and go short on the over-valued stock\n",
    "        order_target_percent(symbol('PEP'), -0.5)\n",
    "        \n",
    "    elif context.price_ratio < 2*std_ratio:\n",
    "        #go long on the under-valued stock\n",
    "        order_target_percent(symbol('PEP'), 0.5)\n",
    "        # and go short on the over-valued stock\n",
    "        order_target_percent(symbol('COKE'), -0.5)\n",
    "            \n",
    "# Will be called on every trade event for the securities you specify. \n",
    "def handle_data(context, data):  \n",
    "    context.coke_price = data[symbol('COKE')].price\n",
    "    context.pepsi_price = data[symbol('PEP')].price\"\"\""
   ]
  }
 ],
 "metadata": {
  "kernelspec": {
   "display_name": "Python 2",
   "language": "python",
   "name": "python2"
  },
  "language_info": {
   "codemirror_mode": {
    "name": "ipython",
    "version": 2
   },
   "file_extension": ".py",
   "mimetype": "text/x-python",
   "name": "python",
   "nbconvert_exporter": "python",
   "pygments_lexer": "ipython2",
   "version": "2.7.10"
  }
 },
 "nbformat": 4,
 "nbformat_minor": 0
}
